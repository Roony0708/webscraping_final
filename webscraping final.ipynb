{
 "cells": [
  {
   "cell_type": "code",
   "execution_count": 4,
   "metadata": {},
   "outputs": [],
   "source": [
    "import csv\n",
    "from datetime import datetime\n",
    "import requests\n",
    "from bs4 import BeautifulSoup\n",
    "import html5lib\n",
    "\n",
    "\n",
    "temp = 'https://apna.co/jobs?location_id=0&location_identifier=651d470183cff884b7404dc4&location_type=NBCluster&location_name=Delhi-NCR&search=true&text=Data%20Analyst&entity_id=10039789&entity_type=JobTitle'\n",
    "\n",
    "def get_url(position, location):\n",
    "  temp = 'https://apna.co/jobs?location_id=0&location_identifier=651d470183cff884b7404dc4&location_type=NBCluster&location_name=Delhi-NCR&search=true&text=Data%20Analyst&entity_id=10039789&entity_type=JobTitle'\n",
    "\n",
    "  url = temp.format(position, location)\n",
    "  return url\n"
   ]
  },
  {
   "cell_type": "code",
   "execution_count": 5,
   "metadata": {},
   "outputs": [],
   "source": [
    "temp = 'https://apna.co/jobs?location_id=0&location_identifier=651d470183cff884b7404dc4&location_type=NBCluster&location_name=Delhi-NCR&search=true&text=Data%20Analyst&entity_id=10039789&entity_type=JobTitle'\n",
    "\n",
    "def get_url(position, location):\n",
    "  temp = 'https://apna.co/jobs?location_id=0&location_identifier=651d470183cff884b7404dc4&location_type=NBCluster&location_name=Delhi-NCR&search=true&text=Data%20Analyst&entity_id=10039789&entity_type=JobTitle'\n",
    "\n",
    "  url = temp.format(position, location)\n",
    "  return url"
   ]
  },
  {
   "cell_type": "code",
   "execution_count": 6,
   "metadata": {},
   "outputs": [],
   "source": [
    "url = get_url('data scientist' , 'Delhi')\n",
    "headers = {\n",
    "    'User-Agent': 'Mozilla/5.0 (Windows NT 10.0; Win64; x64) AppleWebKit/537.36 (KHTML, like Gecko) Chrome/58.0.3029.110 Safari/537.3'}\n",
    "\n",
    "response = requests.get(url, headers=headers)\n"
   ]
  },
  {
   "cell_type": "code",
   "execution_count": 7,
   "metadata": {},
   "outputs": [
    {
     "data": {
      "text/plain": [
       "<Response [200]>"
      ]
     },
     "execution_count": 7,
     "metadata": {},
     "output_type": "execute_result"
    }
   ],
   "source": [
    "response"
   ]
  },
  {
   "cell_type": "code",
   "execution_count": 8,
   "metadata": {},
   "outputs": [],
   "source": [
    "soup = BeautifulSoup(response.text, 'html.parser')"
   ]
  },
  {
   "cell_type": "code",
   "execution_count": 9,
   "metadata": {},
   "outputs": [],
   "source": [
    "cards = soup.find_all('div', 'JobListCardstyles__JobCardWrapper-ffng7u-0 liPDyT')"
   ]
  },
  {
   "cell_type": "code",
   "execution_count": 10,
   "metadata": {},
   "outputs": [
    {
     "data": {
      "text/plain": [
       "7"
      ]
     },
     "execution_count": 10,
     "metadata": {},
     "output_type": "execute_result"
    }
   ],
   "source": [
    "len(cards)"
   ]
  },
  {
   "cell_type": "code",
   "execution_count": 11,
   "metadata": {},
   "outputs": [
    {
     "name": "stdout",
     "output_type": "stream",
     "text": [
      "Quality Analyst\n"
     ]
    }
   ],
   "source": [
    "card = cards[0]\n",
    "atag = card.find(\"div\", class_=\"JobListCardstyles__JobTitle-ffng7u-7 cuaBGE\")\n",
    "job_title = atag.text \n",
    "print(job_title)\n",
    "\n"
   ]
  },
  {
   "cell_type": "code",
   "execution_count": 12,
   "metadata": {},
   "outputs": [
    {
     "name": "stdout",
     "output_type": "stream",
     "text": [
      "Funmood Industries\n"
     ]
    }
   ],
   "source": [
    "company = card.find(\"div\", class_=\"JobListCardstyles__JobCompany-ffng7u-8 gguURM\")\n",
    "c_name = company.text\n",
    "print(c_name)"
   ]
  },
  {
   "cell_type": "code",
   "execution_count": 13,
   "metadata": {},
   "outputs": [
    {
     "name": "stdout",
     "output_type": "stream",
     "text": [
      "  Abhay Khand, Delhi-NCR\n"
     ]
    }
   ],
   "source": [
    "job_location = card.find(\"div\", class_=\"JobListCardstyles__DisplayFlexCenter-ffng7u-10 BmLKA\")\n",
    "loc = job_location.text\n",
    "print(loc)\n"
   ]
  },
  {
   "cell_type": "code",
   "execution_count": 14,
   "metadata": {},
   "outputs": [
    {
     "name": "stdout",
     "output_type": "stream",
     "text": [
      "₹20,000- ₹30,000\n"
     ]
    }
   ],
   "source": [
    "parent_div = soup.find('div', class_='JobListCardstyles__ContentContainer-ffng7u-9 jgNAYT')\n",
    "salary_div = parent_div.find_all('div', class_='JobListCardstyles__DisplayFlexCenter-ffng7u-10 BmLKA')[1]\n",
    "salary_text = salary_div.get_text(strip=True)\n",
    "print(salary_text)"
   ]
  },
  {
   "cell_type": "code",
   "execution_count": 20,
   "metadata": {},
   "outputs": [],
   "source": [
    "def get_record(cards):\n",
    "    atag = card.find(\"div\", class_=\"JobListCardstyles__JobTitle-ffng7u-7 cuaBGE\")\n",
    "    company = card.find(\"div\", class_=\"JobListCardstyles__JobCompany-ffng7u-8 gguURM\")\n",
    "    job_location = card.find(\"div\", class_=\"JobListCardstyles__DisplayFlexCenter-ffng7u-10 BmLKA\")\n",
    "    parent_div = soup.find('div', class_='JobListCardstyles__ContentContainer-ffng7u-9 jgNAYT')\n",
    "    salary_div = parent_div.find_all('div', class_='JobListCardstyles__DisplayFlexCenter-ffng7u-10 BmLKA')[1]\n",
    "    record = (atag, company, job_location, salary_div)\n",
    "    return record"
   ]
  },
  {
   "cell_type": "code",
   "execution_count": 21,
   "metadata": {},
   "outputs": [],
   "source": [
    "records = []\n",
    "for card in cards:\n",
    "    record = get_record(cards)\n",
    "    records.append(record)\n",
    "\n"
   ]
  },
  {
   "cell_type": "code",
   "execution_count": 54,
   "metadata": {},
   "outputs": [
    {
     "name": "stdout",
     "output_type": "stream",
     "text": [
      "('Quality Analyst', 'Funmood Industries', '\\xa0 Abhay Khand, Delhi-NCR', ' \\xa0₹20,000 - ₹30,000')\n",
      "('Data Analyst', 'Inkkr Trends', '\\xa0 Shahdara, New Delhi', ' \\xa0₹25,000 - ₹35,000')\n",
      "('Data Analyst', 'Jai Balaji International', '\\xa0 Bhikaji Cama Place, Delhi-NCR', ' \\xa0₹15,000 - ₹50,000')\n",
      "('Data Analyst', 'Kumar Ji Solutions', ' \\xa0Work from home', ' \\xa0₹18,000 - ₹21,000')\n",
      "('Data Analyst', 'Maurya Tex Complex', ' \\xa0Work from home', ' \\xa0₹16,500 - ₹21,000')\n",
      "('Data Analyst', 'Modaksh', ' \\xa0Work from home', ' \\xa0₹19,000 - ₹24,000')\n",
      "('Data Analyst', 'Maurya Tex Complex', ' \\xa0Work from home', ' \\xa0₹13,000 - ₹24,000')\n",
      "7\n"
     ]
    }
   ],
   "source": [
    "import csv\n",
    "from datetime import datetime\n",
    "import requests\n",
    "from bs4 import BeautifulSoup\n",
    "import html5lib\n",
    "\n",
    "def get_url(position, location, page=1):\n",
    "    base_url = 'https://apna.co/jobs?search=true&entity_type=JobTitle&entity_id=10039789&text=Data+Analyst&location_id=0&location_identifier=651d470183cff884b7404dc4&location_type=NBCluster&location_name=Delhi-NCR'\n",
    "    url = base_url.format(page)\n",
    "    return url\n",
    "\n",
    "def get_record(card):\n",
    "    atag = card.find(\"div\", class_=\"JobListCardstyles__JobTitle-ffng7u-7 cuaBGE\")\n",
    "    company = card.find(\"div\", class_=\"JobListCardstyles__JobCompany-ffng7u-8 gguURM\")\n",
    "    job_location = card.find(\"div\", class_=\"JobListCardstyles__DisplayFlexCenter-ffng7u-10 BmLKA\")\n",
    "    salary_div = card.find_all('div', class_='JobListCardstyles__DisplayFlexCenter-ffng7u-10 BmLKA')[1]\n",
    "    record = (atag.text if atag else None, company.text if company else None, job_location.text if job_location else None, salary_div.text if salary_div else None)\n",
    "    return record\n",
    "\n",
    "base_url = 'https://apna.co/jobs?search=true&entity_type=JobTitle&entity_id=10039789&text=Data+Analyst&location_id=0&location_identifier=651d470183cff884b7404dc4&location_type=NBCluster&location_name=Delhi-NCR'\n",
    "\n",
    "url = get_url('data scientist', 'Delhi')\n",
    "headers = {'User-Agent': 'Mozilla/5.0 (Windows NT 10.0; Win64; x64) AppleWebKit/537.36 (KHTML, like Gecko) Chrome/58.0.3029.110 Safari/537.3'}\n",
    "\n",
    "records = []\n",
    "while True:\n",
    "    try:\n",
    "        response = requests.get(url, headers=headers)\n",
    "        soup = BeautifulSoup(response.text, 'html.parser')\n",
    "        cards = soup.find_all('div', class_='JobListCardstyles__JobCardWrapper-ffng7u-0 liPDyT')\n",
    "\n",
    "        for card in cards:\n",
    "            record = get_record(card)\n",
    "            records.append(record)\n",
    "\n",
    "        # Check for the next page button\n",
    "        next_button = soup.find('button', class_='JobListPagination__PageNavigationButton-sc-1abytra-3 jInwTH px-[6px] py-[1px]')\n",
    "        if not next_button:\n",
    "            break\n",
    "\n",
    "        # Construct the URL for the next page\n",
    "        page_number = next_button.text\n",
    "        url = f\"{base_url}&page={page_number}\"\n",
    "\n",
    "    except Exception as e:\n",
    "        print(f\"Error: {e}\")\n",
    "        break\n",
    "\n",
    "for record in records:\n",
    "    print(record)\n",
    "\n",
    "print(len(records))\n"
   ]
  },
  {
   "cell_type": "code",
   "execution_count": 51,
   "metadata": {},
   "outputs": [
    {
     "name": "stdout",
     "output_type": "stream",
     "text": [
      "Data has been successfully written to job_data.csv\n"
     ]
    }
   ],
   "source": [
    "csv_file = \"job_data.csv\"\n",
    "\n",
    "with open(csv_file, mode='w', newline='', encoding='utf-8') as file:\n",
    "    writer = csv.writer(file)\n",
    "  \n",
    "    writer.writerow([\"Job Title\", \"Company\", \"Job Location\", \"Salary\"])\n",
    "\n",
    "    writer.writerows(records)\n",
    "\n",
    "print(f\"Data has been successfully written to {csv_file}\")"
   ]
  }
 ],
 "metadata": {
  "kernelspec": {
   "display_name": "Python 3",
   "language": "python",
   "name": "python3"
  },
  "language_info": {
   "codemirror_mode": {
    "name": "ipython",
    "version": 3
   },
   "file_extension": ".py",
   "mimetype": "text/x-python",
   "name": "python",
   "nbconvert_exporter": "python",
   "pygments_lexer": "ipython3",
   "version": "3.12.0"
  }
 },
 "nbformat": 4,
 "nbformat_minor": 2
}
